{
 "metadata": {
  "language_info": {
   "codemirror_mode": {
    "name": "ipython",
    "version": 3
   },
   "file_extension": ".py",
   "mimetype": "text/x-python",
   "name": "python",
   "nbconvert_exporter": "python",
   "pygments_lexer": "ipython3",
   "version": "3.9.0-final"
  },
  "orig_nbformat": 2,
  "kernelspec": {
   "name": "python3",
   "display_name": "Python 3.9.0 64-bit",
   "metadata": {
    "interpreter": {
     "hash": "7812ea015bdcee6f23a998adcdd2ef97c151c0c241b7b7070987d9313e41299d"
    }
   }
  }
 },
 "nbformat": 4,
 "nbformat_minor": 2,
 "cells": [
  {
   "source": [
    "# Distribute Secrets with Linear Lines #"
   ],
   "cell_type": "markdown",
   "metadata": {}
  },
  {
   "source": [
    "This project was made to showcase how a secret can be distributed among multiple people. This is instresting though because the parts of the secret are meaningless unless all the specified amount of people work together to find the origional secret."
   ],
   "cell_type": "markdown",
   "metadata": {}
  },
  {
   "source": [
    "### Goals ###\n",
    "- Create three parts of the secret\n",
    "- Require two people to open it"
   ],
   "cell_type": "markdown",
   "metadata": {}
  },
  {
   "cell_type": "code",
   "execution_count": null,
   "metadata": {},
   "outputs": [],
   "source": [
    "# Generating the line\n",
    "\n",
    "import random\n",
    "\n",
    "secret = int(input('Enter the secret: (int) ')) # this will the y intercept, must be an interger\n",
    "slope = random.randint(1, 9999)"
   ]
  },
  {
   "source": [
    "Now that we have the slope and the secret we can add the code that will print out the parts of the secret"
   ],
   "cell_type": "markdown",
   "metadata": {}
  },
  {
   "cell_type": "code",
   "execution_count": null,
   "metadata": {},
   "outputs": [],
   "source": [
    "# Generating the line\n",
    "\n",
    "import random\n",
    "\n",
    "secret = int(input('Enter the secret: (int) ')) # this will the y intercept, must be an interger\n",
    "slope = random.randint(1, 9999)\n",
    "\n",
    "# Printing the values\n",
    "\n",
    "def getY(x, slope, intercept):\n",
    "    return (x*slope)+intercept\n",
    "\n",
    "for i in range(3):\n",
    "    print(i+1, getY(i+1, slope, secret)) # add one because computers start with 0 and 0 will reveal the secret"
   ]
  },
  {
   "source": [
    "Now this all works but if you want to use letters you would have to turn them into numbers first. We can solve this by assigning letters to numbers. That would work but you would need the key to decode it. Instead we can use the unicode index. We can use the built-in function ord to convert letters to numbers, for instance a is 97."
   ],
   "cell_type": "markdown",
   "metadata": {}
  },
  {
   "source": [
    "def stringToInt(string):\n",
    "    res = '' # the ending number\n",
    "\n",
    "    for char in string:\n",
    "        res += str(ord(char))\n",
    "\n",
    "    return int(res)\n",
    "\n",
    "print(stringToInt(input('Test ')))"
   ],
   "cell_type": "code",
   "metadata": {},
   "execution_count": null,
   "outputs": []
  },
  {
   "source": [
    "This would work except the way unicode works is designed for binary and hexadecimal so we will end up using our own key"
   ],
   "cell_type": "markdown",
   "metadata": {}
  },
  {
   "cell_type": "code",
   "execution_count": null,
   "metadata": {},
   "outputs": [],
   "source": [
    "key =  {'a': '10', 'b': '11', 'c': '12', 'd': '13', 'e': '14', 'f': '15', 'g': '16', 'h': '17', 'i': '18', 'j': '19', 'k': '20', 'l': '21', 'm': '22', 'n': '23', 'o': '24', 'p': '25', 'q': '26', 'r': '27', 's': '28', 't': '29', 'u': '30', 'v': '31', 'w': '32', 'x': '33', 'y': '34', 'z': '35', '1': '36', '2': '37', '3': '38', '4': '39', '5': '40', '6': '41', '7': '42', '8': '43', '9': '44', '.': '45', '?': '46', '!': '47', ' ': '48', 'invalid char': '49'}\n",
    "\n",
    "def stringToInt(string):\n",
    "    res = '' # the ending number\n",
    "\n",
    "    for char in string:\n",
    "        try:\n",
    "            res += str(key[char])\n",
    "        except:\n",
    "            res += '49'\n",
    "\n",
    "    return int(res)\n",
    "\n",
    "print(stringToInt(input('Test ')))"
   ]
  },
  {
   "source": [
    "This is the start code using this system"
   ],
   "cell_type": "markdown",
   "metadata": {}
  },
  {
   "cell_type": "code",
   "execution_count": null,
   "metadata": {},
   "outputs": [],
   "source": [
    "# Generating the line\n",
    "\n",
    "import random\n",
    "\n",
    "key =  {'a': '10', 'b': '11', 'c': '12', 'd': '13', 'e': '14', 'f': '15', 'g': '16', 'h': '17', 'i': '18', 'j': '19', 'k': '20', 'l': '21', 'm': '22', 'n': '23', 'o': '24', 'p': '25', 'q': '26', 'r': '27', 's': '28', 't': '29', 'u': '30', 'v': '31', 'w': '32', 'x': '33', 'y': '34', 'z': '35', '1': '36', '2': '37', '3': '38', '4': '39', '5': '40', '6': '41', '7': '42', '8': '43', '9': '44', '.': '45', '?': '46', '!': '47', ' ': '48', 'invalid char': '49'}\n",
    "\n",
    "def stringToInt(string):\n",
    "    res = '' # the ending number\n",
    "\n",
    "    for char in string:\n",
    "        try:\n",
    "            res += str(key[char])\n",
    "        except:\n",
    "            res += '49'\n",
    "\n",
    "    return int(res)\n",
    "\n",
    "secret = stringToInt(input('Enter the secret: ')) # this will the y intercept\n",
    "slope = random.randint(1, 9999)"
   ]
  },
  {
   "source": [
    "The final code looks like this: (With some code to make the output prettier)"
   ],
   "cell_type": "markdown",
   "metadata": {}
  },
  {
   "cell_type": "code",
   "execution_count": null,
   "metadata": {},
   "outputs": [],
   "source": [
    "# Generating the line\n",
    "\n",
    "import random\n",
    "\n",
    "key =  {'a': '10', 'b': '11', 'c': '12', 'd': '13', 'e': '14', 'f': '15', 'g': '16', 'h': '17', 'i': '18', 'j': '19', 'k': '20', 'l': '21', 'm': '22', 'n': '23', 'o': '24', 'p': '25', 'q': '26', 'r': '27', 's': '28', 't': '29', 'u': '30', 'v': '31', 'w': '32', 'x': '33', 'y': '34', 'z': '35', '1': '36', '2': '37', '3': '38', '4': '39', '5': '40', '6': '41', '7': '42', '8': '43', '9': '44', '.': '45', '?': '46', '!': '47', ' ': '48', 'invalid char': '49'}\n",
    "\n",
    "def stringToInt(string):\n",
    "    res = '' # the ending number\n",
    "\n",
    "    for char in string:\n",
    "        try:\n",
    "            res += str(key[char])\n",
    "        except:\n",
    "            res += '49'\n",
    "\n",
    "    return int(res)\n",
    "\n",
    "secret = stringToInt(input('Enter the secret: ')) # this will the y intercept\n",
    "slope = random.randint(1, 9999)\n",
    "\n",
    "# Printing the values\n",
    "\n",
    "print('\\nThe Y intercept of the line represents the index of the pasword')\n",
    "print(\"The key is {}\".format(key))\n",
    "\n",
    "def getY(x, slope, intercept):\n",
    "    return (x*slope)+intercept\n",
    "\n",
    "for i in range(3):\n",
    "    print(\"The coordinate pair for person {} ({}, {})\".format(i+1, i+1, getY(i+1, slope, secret))) # add one because computers start with 0 and 0 will reveal the secret"
   ]
  },
  {
   "source": [
    "But this means that people need the key to decode it. If you were just trying to encode numbers you shoud use this code"
   ],
   "cell_type": "markdown",
   "metadata": {}
  },
  {
   "cell_type": "code",
   "execution_count": 28,
   "metadata": {},
   "outputs": [
    {
     "output_type": "stream",
     "name": "stdout",
     "text": [
      "\nThe Y intercept of the line represents the index of the pasword\nThe coordinate pair for person 1 (1, 242991)\nThe coordinate pair for person 2 (2, 252213)\nThe coordinate pair for person 3 (3, 261435)\n"
     ]
    }
   ],
   "source": [
    "# Generating the line\n",
    "\n",
    "import random\n",
    "\n",
    "secret = int(input('Enter the secret: (int) ')) # this will the y intercept, must be an interger\n",
    "slope = random.randint(1, 9999)\n",
    "\n",
    "# Printing the values\n",
    "\n",
    "print('\\nThe Y intercept of the line represents the pasword')\n",
    "\n",
    "def getY(x, slope, intercept):\n",
    "    return (x*slope)+intercept\n",
    "\n",
    "for i in range(3):\n",
    "    print(\"The coordinate pair for person {} ({}, {})\".format(i+1, i+1, getY(i+1, slope, secret))) # add one because computers start with 0 and 0 will reveal the secret"
   ]
  },
  {
   "source": [
    "Now we can distribute secrets between multiple people! But how do we get those secrets back?"
   ],
   "cell_type": "markdown",
   "metadata": {}
  },
  {
   "cell_type": "code",
   "execution_count": null,
   "metadata": {},
   "outputs": [],
   "source": [
    "x1 = int(input('Enter one of the X values '))\n",
    "y1 = int(input('Enter the corresponding Y value '))\n",
    "\n",
    "x2 = int(input('Enter another one of the X values '))\n",
    "y2 = int(input('Enter the corresponding Y value '))\n",
    "\n",
    "slope = (y1 - y2) / (x1 - x2)\n",
    "secret = ((slope * x1) - y1) / -1\n",
    "\n",
    "print(secret)"
   ]
  },
  {
   "source": [
    "Alright we've done it! We can now distribute a secret between 3 people and two of the people must cooperate to get the secret!"
   ],
   "cell_type": "markdown",
   "metadata": {}
  }
 ]
}